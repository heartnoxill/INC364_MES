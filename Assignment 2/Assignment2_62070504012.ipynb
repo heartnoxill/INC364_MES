{
 "cells": [
  {
   "cell_type": "markdown",
   "metadata": {},
   "source": [
    "## Assignment 2"
   ]
  },
  {
   "cell_type": "code",
   "execution_count": 1,
   "metadata": {},
   "outputs": [],
   "source": [
    "__author__ = \"Pattarapon Buathong 62070504012 AE\"\n",
    "\n",
    "# Import packages\n",
    "import numpy as np\n",
    "import matplotlib.pyplot as plt\n",
    "%matplotlib inline"
   ]
  },
  {
   "cell_type": "markdown",
   "metadata": {},
   "source": [
    "## Analysis\n",
    "\n",
    "### <ins>Decision variables</ins>\n",
    "##### x = number of cupboard produced in this week\n",
    "##### y = number of door produced in this week\n",
    "\n",
    "### <ins>Objective function</ins>\n",
    "##### To maximize: combined sum of the units of cupboards and the units of doors in stock at the end of the week\n",
    "##### Maximize: (x+30-75) + (y+90-95) --> x+y-50\n",
    "\n",
    "### <ins>Constraints</ins>\n",
    "##### Convert hours to minutes\n",
    "##### 50x + 24y <= 40(60) # Machine A\n",
    "##### 30x + 33y <= 35(60) # Machine B\n",
    "\n",
    "### <ins>Non-negativity restrictions</ins>\n",
    "##### x >= 75 - 30 (Forecast - Stock) --> x >= 45\n",
    "##### y >= 95 - 90 (Forecast - Stock) --> y >= 5"
   ]
  },
  {
   "cell_type": "code",
   "execution_count": 12,
   "metadata": {},
   "outputs": [
    {
     "name": "stdout",
     "output_type": "stream",
     "text": [
      "[45.      45.00001 45.00002 ... 54.99998 54.99999 55.     ]\n"
     ]
    }
   ],
   "source": [
    "# x >= 45\n",
    "x = np.linspace(45, 55, 1000000)\n",
    "print(x)"
   ]
  },
  {
   "cell_type": "code",
   "execution_count": 4,
   "metadata": {
    "scrolled": true
   },
   "outputs": [
    {
     "name": "stdout",
     "output_type": "stream",
     "text": [
      "[5. 5. 5. ... 5. 5. 5.]\n"
     ]
    }
   ],
   "source": [
    "# y >= 5\n",
    "y1 = np.linspace(5, 5, 1000000)\n",
    "print(y1)"
   ]
  },
  {
   "cell_type": "code",
   "execution_count": 5,
   "metadata": {},
   "outputs": [
    {
     "name": "stdout",
     "output_type": "stream",
     "text": [
      "[  6.25         6.24997917   6.24995833 ... -14.58329167 -14.5833125\n",
      " -14.58333333]\n"
     ]
    }
   ],
   "source": [
    "# 50x + 24y <= 40(60)\n",
    "y2 = (2400 - 50*x)/24\n",
    "print(y2)"
   ]
  },
  {
   "cell_type": "code",
   "execution_count": 6,
   "metadata": {},
   "outputs": [
    {
     "name": "stdout",
     "output_type": "stream",
     "text": [
      "[22.72727273 22.72726364 22.72725455 ... 13.63638182 13.63637273\n",
      " 13.63636364]\n"
     ]
    }
   ],
   "source": [
    "# 30x + 33y <= 35(60)\n",
    "y3 = (2100 - 30*x)/33\n",
    "print(y3)"
   ]
  },
  {
   "cell_type": "code",
   "execution_count": 7,
   "metadata": {},
   "outputs": [
    {
     "name": "stdout",
     "output_type": "stream",
     "text": [
      "[0.000000e+00 1.000001e-05 2.000002e-05 ... 9.999980e+00 9.999990e+00\n",
      " 1.000000e+01]\n"
     ]
    }
   ],
   "source": [
    "x45 = np.linspace(45, 45, 1000000)\n",
    "y_for_vert = np.linspace(0, 10, 1000000)\n",
    "print(y_for_vert)"
   ]
  },
  {
   "cell_type": "markdown",
   "metadata": {},
   "source": [
    "## Linear Function Figure Plot"
   ]
  },
  {
   "cell_type": "code",
   "execution_count": 8,
   "metadata": {},
   "outputs": [
    {
     "data": {
      "image/png": "[encoded data removed]",
      "text/plain": [
       "<Figure size 720x504 with 1 Axes>"
      ]
     },
     "metadata": {
      "needs_background": "light"
     },
     "output_type": "display_data"
    }
   ],
   "source": [
    "# Plotting linear functions\n",
    "plt.figure(figsize=(10, 7))\n",
    "# plt.axvline(x=45, color=\"black\")\n",
    "plt.plot(x45, y_for_vert, label=\"x >= 45\")\n",
    "plt.plot(x, y1, label=\"y >= 5\")\n",
    "plt.plot(x, y2, label=\"50x + 24y <= 2400\")\n",
    "plt.plot(x, y3, label=\"30x + 33y <= 2100\")\n",
    "plt.xlim((44, 55))\n",
    "plt.ylim((5, 20))\n",
    "\n",
    "y4 = np.minimum(y_for_vert, y1)\n",
    "plt.fill_between(x, y4, y2, color=\"blue\", alpha=0.3)\n",
    "\n",
    "plt.legend()\n",
    "plt.show()"
   ]
  },
  {
   "cell_type": "markdown",
   "metadata": {},
   "source": [
    "## Calculating optimal objective and product"
   ]
  },
  {
   "cell_type": "code",
   "execution_count": 13,
   "metadata": {},
   "outputs": [
    {
     "name": "stdout",
     "output_type": "stream",
     "text": [
      "Optimal Objective:  1.25\n",
      "Optimal Product (45.0, 6.25)\n"
     ]
    }
   ],
   "source": [
    "# 3 intersections -> [x, y1], [x, y2], [y1, y2]\n",
    "\n",
    "# Identify the intersections\n",
    "intersec1 = (x[0], y1[0])\n",
    "\n",
    "intersec2 = (x[0], y2[0])\n",
    "\n",
    "idx3 = np.argwhere(np.isclose(y1, y2, atol=0.0001)==True)[0][0]\n",
    "intersec3 = (x[idx3], y2[idx3])\n",
    "\n",
    "# print(intersec1, intersec2, intersec3)\n",
    "\n",
    "# Declare the objective function\n",
    "def objective_function(x, y):\n",
    "    J = x+y-50\n",
    "    return J\n",
    "\n",
    "# Provide * before tuple variable\n",
    "objective1 = objective_function(*intersec1)\n",
    "objective2 = objective_function(*intersec2)\n",
    "objective3 = objective_function(*intersec3)\n",
    "\n",
    "# Create a list of intersections and costs\n",
    "objective_list = [objective1, objective2, objective3]\n",
    "product = [intersec1, intersec2, intersec3]\n",
    "# print(objective_list)\n",
    "\n",
    "lowest_idx = np.argmax(objective_list)\n",
    "optimal_objective = objective_list[lowest_idx]\n",
    "product = product[lowest_idx]\n",
    "\n",
    "print(\"Optimal Objective: \", optimal_objective)\n",
    "print(\"Optimal Product\", optimal_machine)"
   ]
  },
  {
   "cell_type": "markdown",
   "metadata": {},
   "source": [
    "## How many of each product to make in the current week?\n",
    "\n",
    "### Number of cupboard = 45\n",
    "### Number of door = 6.25\n",
    "### According to https://cs.stackexchange.com/questions/51951/why-cant-we-round-results-of-linear-programming-to-get-integer-programming\n",
    "### Since there are no constraint that place upper limit for door (only y>=5)\n",
    "### Therefore, I think we will produce 7 doors instead."
   ]
  }
 ],
 "metadata": {
  "kernelspec": {
   "display_name": "Python 3",
   "language": "python",
   "name": "python3"
  },
  "language_info": {
   "codemirror_mode": {
    "name": "ipython",
    "version": 3
   },
   "file_extension": ".py",
   "mimetype": "text/x-python",
   "name": "python",
   "nbconvert_exporter": "python",
   "pygments_lexer": "ipython3",
   "version": "3.8.6"
  }
 },
 "nbformat": 4,
 "nbformat_minor": 4
}
